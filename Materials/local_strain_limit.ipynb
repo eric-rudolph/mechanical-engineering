{
 "cells": [
  {
   "cell_type": "markdown",
   "metadata": {},
   "source": [
    "# Elastic-Plastic Analysis - Local Strain Limit"
   ]
  },
  {
   "cell_type": "markdown",
   "metadata": {},
   "source": [
    "Reference AMSE BPVC.VIII.2 Part 5.3"
   ]
  },
  {
   "cell_type": "markdown",
   "metadata": {},
   "source": [
    "Determine the limiting triaxial strain, $\\epsilon_L$:\n",
    "$$ \\epsilon_L=\\epsilon_Lu \\cdot exp \\left[ - \\left( \\frac{\\alpha_{s1}}{1+m_2} \\right) \\left( \\left\\{ \\frac{ \\sigma_1+\\sigma_2+\\sigma_3}{3 \\sigma_e} \\right\\} -\\frac{1}{3} \\right) \\right]$$"
   ]
  },
  {
   "cell_type": "markdown",
   "metadata": {},
   "source": [
    "where $\\epsilon_{Lu}$, $m_2$, and $\\alpha_{s1}$ are determined from Table 5.7."
   ]
  },
  {
   "cell_type": "code",
   "execution_count": 7,
   "metadata": {},
   "outputs": [],
   "source": [
    "from math import log, exp\n",
    "\n",
    "# Material\n",
    "Fy = 30\n",
    "UTS = 55\n",
    "eps = None\n",
    "\n",
    "# from FEA results\n",
    "sigma_e = 54807\n",
    "sigma_1 = 16543\n",
    "sigma_2 = -11030\n",
    "sigma_3 = -18065\n",
    "eps_peq = 0.000548\n"
   ]
  },
  {
   "cell_type": "code",
   "execution_count": 5,
   "metadata": {},
   "outputs": [],
   "source": [
    "# for Ferritic Steel\n",
    "R = Fy / UTS\n",
    "m2 = 0.6*(1.00-R)\n",
    "if eps != None:\n",
    "    eps_Lu = 2.0 * log(1+eps/100)\n",
    "else:\n",
    "    eps_Lu = m2\n",
    "alpha_s1 = 2.2\n",
    "\n",
    "eps_L = eps_Lu * exp(-(alpha_s1/(1+m2))*(((sigma_1+sigma_2+sigma_3)/(3*sigma_e))-1/3))"
   ]
  },
  {
   "cell_type": "code",
   "execution_count": 6,
   "metadata": {},
   "outputs": [],
   "source": [
    "# forming strain for a cylindrical component from flat plate\n",
    "t = 0.203\n",
    "Rf = 20.67 * 12 / 2\n",
    "eps_cf = 50 * t / Rf"
   ]
  },
  {
   "cell_type": "markdown",
   "metadata": {},
   "source": [
    "Strain limit criteria is satisfied of $\\epsilon_{peq}+\\epsilon_{cf}\\le\\epsilon_L$"
   ]
  },
  {
   "cell_type": "code",
   "execution_count": 8,
   "metadata": {},
   "outputs": [
    {
     "name": "stdout",
     "output_type": "stream",
     "text": [
      "Local strain limit criterion is met\n"
     ]
    }
   ],
   "source": [
    "if eps_peq+eps_cf<=eps_L:\n",
    "    print(\"Local strain limit criterion is met\")\n",
    "else:\n",
    "    print(\"Local strain limit criterion is NOT satisfied\")"
   ]
  }
 ],
 "metadata": {
  "kernelspec": {
   "display_name": "Python 3",
   "language": "python",
   "name": "python3"
  },
  "language_info": {
   "codemirror_mode": {
    "name": "ipython",
    "version": 3
   },
   "file_extension": ".py",
   "mimetype": "text/x-python",
   "name": "python",
   "nbconvert_exporter": "python",
   "pygments_lexer": "ipython3",
   "version": "3.11.7"
  }
 },
 "nbformat": 4,
 "nbformat_minor": 2
}
