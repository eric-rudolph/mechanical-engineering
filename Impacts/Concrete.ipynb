{
 "cells": [
  {
   "cell_type": "markdown",
   "id": "436a8771-bee7-4170-b618-056bf7abb490",
   "metadata": {},
   "source": [
    "# Analysis of Impact on Concrete Barriers"
   ]
  },
  {
   "cell_type": "markdown",
   "id": "265125f0",
   "metadata": {},
   "source": [
    "This is a series of calculations for the impact of a steel cylindrical projectile against a concrete wall.  There are several models included."
   ]
  },
  {
   "cell_type": "code",
   "execution_count": 1,
   "id": "0ecae1ec-653e-4164-b007-a0120e5aaf2d",
   "metadata": {},
   "outputs": [],
   "source": [
    "import numpy as np"
   ]
  },
  {
   "cell_type": "code",
   "execution_count": 12,
   "id": "9053bb88-05fa-4c6f-93cd-46af2455a265",
   "metadata": {
    "jupyter": {
     "source_hidden": true
    },
    "tags": []
   },
   "outputs": [],
   "source": [
    "# Projectile properties\n",
    "OD = 0.1                # m\n",
    "length = 0.05           # m\n",
    "\n",
    "# Mass of the projectile\n",
    "M = np.pi/4 * OD**2 * length * 8000   # density of steel is 8000 kg/m3\n",
    "\n",
    "# velocity of the flange\n",
    "Vel = 100               # m/s"
   ]
  },
  {
   "cell_type": "markdown",
   "id": "a5c8b3bb-fa01-4c3d-b42c-c9cfbda8e464",
   "metadata": {},
   "source": [
    "# Impact on Concrete Walls\n",
    "The behavior of reinforced concrete structures under impact has been subject of many research studies.  This presents the calculations based on several studies.\n",
    "## Concrete Wall Properites"
   ]
  },
  {
   "cell_type": "code",
   "execution_count": 23,
   "id": "aed844e3-30ca-4049-999c-ac3f01348a7d",
   "metadata": {},
   "outputs": [],
   "source": [
    "#Parameter   Value    Description                        Unit\n",
    "h         =    0.3      # Wall thickness                   m\n",
    "fc        =   30.0      # concrete compressive strength    MPa\n",
    "ft        =    5.0      # Concrete tensile strenght        MPa\n",
    "p         = 1440.0      # Concrete density                 kg/m3\n",
    "K         =    1.0      # Concrete penetrability factor    --\n",
    "ar        =    1.2E-4   # each rebar area                  m2\n",
    "c         =    0.3      # rebar spacing                    m\n",
    "r         = ar/h/c      # Ratio between in-plane steel     kg/m3\n",
    "                        # mass and concrete volumes\n",
    "a         =     .01     # Half of concrete aggregate size  m\n",
    "S         =    1.1      # Dynamic increase factor"
   ]
  },
  {
   "cell_type": "markdown",
   "id": "5772954d-ff41-40de-b47d-41e4e87e8d7e",
   "metadata": {},
   "source": [
    "## Projectile Properties"
   ]
  },
  {
   "cell_type": "code",
   "execution_count": 14,
   "id": "5855921f-dd91-4a4b-87c5-fcf4d6a10be3",
   "metadata": {},
   "outputs": [],
   "source": [
    "#Parameter   Value      Description                      Unit\n",
    "V         =  Vel        # Initial velocity                m/s\n",
    "m         =  M          # Mass                            kg\n",
    "W         =  m/9.81     # Weight                          N\n",
    "L         =    0.1      # Length                          m\n",
    "D         =    0.4775   # Diameter                        m\n",
    "Ap        =   10        # Weight per unit projected area  N/m2\n",
    "N         =    0.72     # Shape factor                    --\n",
    "E         = 2.1E+5      # Modulus of elasticity            MPa\n",
    "Em        = 2.1E+5      # modulus of elasticity of Steel   MPa"
   ]
  },
  {
   "cell_type": "markdown",
   "id": "a979a747-ce4b-400b-a4bf-00fe2d01d15a",
   "metadata": {},
   "source": [
    "## Petry Model\n",
    "Penetration Depth\n",
    "$ X_p = 12KA_p\\log_{10}\\left( 1+\\frac{V^2}{19974} \\right) $<br>\n",
    "Scabbing Thickness $ d_s = 2.2X_p $ <br>\n",
    "Perforation Thickness $ d_p = 2X_p $"
   ]
  },
  {
   "cell_type": "code",
   "execution_count": 15,
   "id": "399f659d-7320-4eb0-840f-bbb12bb8483c",
   "metadata": {},
   "outputs": [
    {
     "name": "stdout",
     "output_type": "stream",
     "text": [
      "Penetration depth is 21.15 m (832.8 inches)\n",
      "Scabbing thickness is 46.54 m (1832.2 inches)\n",
      "Perforation thickness is 42.31 m (1665.6 inches)\n"
     ]
    }
   ],
   "source": [
    "# Penetration depth\n",
    "Xp = 12 * K * Ap * np.log10(1 + V**2 / 19974)\n",
    "# Scabbing thickness\n",
    "ds = 2.2 * Xp\n",
    "# Perforation thickness\n",
    "dp = 2 * Xp\n",
    "\n",
    "print('Penetration depth is %.2f m (%.1f inches)' % (Xp, Xp*39.3701))\n",
    "print('Scabbing thickness is %.2f m (%.1f inches)' % (ds, ds*39.3701))\n",
    "print('Perforation thickness is %.2f m (%.1f inches)' % (dp, dp*39.3701))"
   ]
  },
  {
   "cell_type": "markdown",
   "id": "c9e9767a-7ae8-40a4-9b54-d16fe18d202b",
   "metadata": {},
   "source": [
    "## ACE Model\n",
    "Penetration Depth\n",
    "$ \\frac{X_p}{D} = \\frac{0.00019W}{D^{2.785}f_c^{0.5}} \\left( \\frac{V}{304.8} \\right)^{1.5} + 0.5 $<br>\n",
    "Scabbing Thickness $ \\frac{d_s}{D} = 2.12 + 1.36\\frac{X_p}{D} $ is valid for $ 0.65 \\le \\frac{X_p}{D} \\le 11.75 $<br>\n",
    "Perforation Thickness$ \\frac{d_p}{D} = 1.32 + 1.24\\frac{X_p}{D} $ is valid for $ 1.35 \\le \\frac{X_p}{D} \\le 13.50 $"
   ]
  },
  {
   "cell_type": "code",
   "execution_count": 16,
   "id": "255b04ff-3038-4673-8cd5-0faa950b767a",
   "metadata": {},
   "outputs": [
    {
     "name": "stdout",
     "output_type": "stream",
     "text": [
      "Penetration depth is 0.24 m (9.4 inches)\n",
      "Scabbing thickness is 1.34 m (52.6 inches)\n",
      "Perforation thickness is 0.93 m (36.5 inches)\n",
      "Xp/D = 0.50\n"
     ]
    }
   ],
   "source": [
    "# Penetration depth\n",
    "Xp = 0.00019 * W / D**(1.785) / fc**0.5 * (V/304.8)**1.5 + 0.5*D\n",
    "# Scabbing thickness\n",
    "ds = 2.12*D + 1.36*Xp\n",
    "# Perforation thickness\n",
    "dp = 1.32*D + 1.24*Xp\n",
    "\n",
    "print('Penetration depth is %.2f m (%.1f inches)' % (Xp, Xp*39.3701))\n",
    "print('Scabbing thickness is %.2f m (%.1f inches)' % (ds, ds*39.3701))\n",
    "print('Perforation thickness is %.2f m (%.1f inches)' % (dp, dp*39.3701))\n",
    "print('Xp/D = %.2f' % (Xp/D))"
   ]
  },
  {
   "cell_type": "markdown",
   "id": "e204f4a5-23ac-4fbc-9a48-be71b99308ce",
   "metadata": {},
   "source": [
    "## NDRC Model\n",
    "Penetration Depth \n",
    "$ \\begin{matrix}\n",
    "\\frac{X_p}{D} = \\sqrt{\\frac{\\lambda}{32553}} & \\frac{X_p}{D}\\le2.0 \\\\\n",
    "\\frac{X_p}{D} = 1 + \\frac{\\lambda}{130212} & \\frac{X_p}{D}>2.0 \n",
    "\\end{matrix} $<br>\n",
    "$ \\lambda = \\frac{KNW}{D^{2.8}} \\left( \\frac{V}{304.8} \\right)^{1.8}$<br>\n",
    "$K = \\frac{14.95}{\\sqrt{f_c}} $<br>\n",
    "Scabbing Thisckness $ \\frac{d_s}{D} = 7.91  \\frac{X_p}{D} - 5.06 \\left( \\frac{X_p}{D} \\right)^2 $ is valid for $\\frac{X_p}{D} \\le 0.65$<br>\n",
    "Perforation Thickness $ \\frac{d_s}{D} = 3.19  \\frac{X_p}{D} - 0.718 \\left( \\frac{X_p}{D} \\right)^2 $ is valid for $\\frac{X_p}{D} \\le 1.35$"
   ]
  },
  {
   "cell_type": "code",
   "execution_count": 17,
   "id": "14e9fa1a-a8b0-4ee3-9c29-eae9e59655d4",
   "metadata": {},
   "outputs": [
    {
     "name": "stdout",
     "output_type": "stream",
     "text": [
      "Penetration depth is 0.00 m (0.1 inches)\n",
      "Scabbing thickness is 0.02 m (0.7 inches)\n",
      "Perforation thickness is 0.01 m (0.3 inches)\n",
      "Xp/D = 0.00\n"
     ]
    }
   ],
   "source": [
    "# Penetration depth\n",
    "K = 14.95 / np.sqrt(fc)\n",
    "lam = K*N*W / D**(2.8) * (V/304.8)**1.8\n",
    "Xp1 = np.sqrt(lam/32553)*D\n",
    "Xp2 = (1+lam/130212)*D\n",
    "if Xp1 <= 2.0:\n",
    "    Xp = Xp1\n",
    "else:\n",
    "    Xp = Xp2\n",
    "# Scabbing thickness\n",
    "ds = 7.91 * Xp - 5.06 * Xp**2 / D\n",
    "# Perforation thickness\n",
    "dp = 3.19 * Xp - 0.718 * Xp**2 / D\n",
    "\n",
    "print('Penetration depth is %.2f m (%.1f inches)' % (Xp, Xp*39.3701))\n",
    "print('Scabbing thickness is %.2f m (%.1f inches)' % (ds, ds*39.3701))\n",
    "print('Perforation thickness is %.2f m (%.1f inches)' % (dp, dp*39.3701))\n",
    "print('Xp/D = %.2f' % (Xp/D))"
   ]
  },
  {
   "cell_type": "markdown",
   "id": "22b84379-bcaa-490b-84fc-c1329c78bf98",
   "metadata": {},
   "source": [
    "## BRL Model\n",
    "Perforation Thickness $ \\frac{d_p}{D} = \\frac{2.723 \\times 10^{-4}W}{D^{2.8}f_c^{0.5}}\\left( \\frac{V}{304.8} \\right)^{1.33} $<br>\n",
    "Scabbing Thickness $ d_s=2d_p $"
   ]
  },
  {
   "cell_type": "code",
   "execution_count": 18,
   "id": "f261fe8e-84c8-4bdb-b4a3-793c4b400510",
   "metadata": {},
   "outputs": [
    {
     "name": "stdout",
     "output_type": "stream",
     "text": [
      "Scabbing thickness is 0.00 m (0.0 inches)\n",
      "Perforation thickness is 0.00 m (0.0 inches)\n"
     ]
    }
   ],
   "source": [
    "# Perforation thickness\n",
    "dp = 2.723E-4 * W / D**(1.8) / fc**(0.5) * (V/304.8)**(1.33)\n",
    "ds = 2*dp\n",
    "\n",
    "print('Scabbing thickness is %.2f m (%.1f inches)' % (ds, ds*39.3701))\n",
    "print('Perforation thickness is %.2f m (%.1f inches)' % (dp, dp*39.3701))"
   ]
  },
  {
   "cell_type": "markdown",
   "id": "309f2f4e-865e-4c05-bd57-fd039855edc3",
   "metadata": {},
   "source": [
    "## CEA-EDF Model\n",
    "Perforation Thickness $ \\frac{4.609 /times 10^{-3}m^{0.5}V^{0.75}}{\\rho^{0.125}D^{0.5}f_c^{0.375}} $<br>\n",
    "is valid for $20<V<200$, $0.3<\\frac{d_p}{D}<4.0$, $30<f_c<45$"
   ]
  },
  {
   "cell_type": "code",
   "execution_count": 19,
   "id": "51d189a6-077a-4d41-8fd8-5c9e9f037827",
   "metadata": {},
   "outputs": [
    {
     "name": "stdout",
     "output_type": "stream",
     "text": [
      "Perforation thickness is 0.04 m (1.7 inches)\n"
     ]
    }
   ],
   "source": [
    "dp = .004609 * m**0.5 * V**0.75 / (p**0.125 * D**0.5 * fc**0.375)\n",
    "\n",
    "print('Perforation thickness is %.2f m (%.1f inches)' % (dp, dp*39.3701))"
   ]
  },
  {
   "cell_type": "markdown",
   "id": "c0856969-3c45-42c1-a235-9f2943f5e8f5",
   "metadata": {},
   "source": [
    "## CEA-EDF(r) Model\n",
    "Perforation Thickness $d_p = (d_{p,CEA})\\left( \\frac{750}{500+r} \\right)^{0.75}$"
   ]
  },
  {
   "cell_type": "code",
   "execution_count": 20,
   "id": "02bf9e41-ba2a-4d75-bc68-1944f2d5d049",
   "metadata": {},
   "outputs": [
    {
     "name": "stdout",
     "output_type": "stream",
     "text": [
      "Perforation thickness is 0.06 m (2.2 inches)\n"
     ]
    }
   ],
   "source": [
    "dp = .004609 * m**0.5 * V**0.75 / (p**0.125 * D**0.5 * fc**0.375) *(750/(500+r))**0.75\n",
    "\n",
    "print('Perforation thickness is %.2f m (%.1f inches)' % (dp, dp*39.3701))"
   ]
  },
  {
   "cell_type": "markdown",
   "id": "a3e7711b-45af-4803-a504-9791ccfe2613",
   "metadata": {},
   "source": [
    "## Chang Model\n",
    "Scabbing Thickness $ d_s=\\frac{7.325\\times10^{-3}\\lambda^{0.13}\\left( mV^2 \\right)^{0.4}}{D^{0.2}f_c^{0.4}} $<br>\n",
    "$\\lambda = \\left( \\frac{61}{V} \\right)$<br>\n",
    "Perforation Thickness $ d_p=0.001\\lambda^{0.25}\\left( \\frac{mV^2}{DF_c} \\right)^{0.5} $"
   ]
  },
  {
   "cell_type": "code",
   "execution_count": 21,
   "id": "bad73189-ed62-416c-85a9-03ccda0d0575",
   "metadata": {},
   "outputs": [
    {
     "name": "stdout",
     "output_type": "stream",
     "text": [
      "Scabbing thickness is 0.13 m (5.1 inches)\n",
      "Perforation thickness is 0.04 m (1.6 inches)\n"
     ]
    }
   ],
   "source": [
    "# Scabbing thickness\n",
    "lam = 61/V\n",
    "ds = (.007325 * lam**0.13 * (m * V**2)**0.4)/(D**0.2 * fc**0.4)\n",
    "# Perforation thickness\n",
    "dp = 0.001 * lam**0.25 * (m*V**2/D/fc)**0.5\n",
    "\n",
    "print('Scabbing thickness is %.2f m (%.1f inches)' % (ds, ds*39.3701))\n",
    "print('Perforation thickness is %.2f m (%.1f inches)' % (dp, dp*39.3701))"
   ]
  },
  {
   "cell_type": "code",
   "execution_count": null,
   "id": "6f2240f5-2be7-4b76-bcc5-c6c22b48d921",
   "metadata": {},
   "outputs": [],
   "source": []
  }
 ],
 "metadata": {
  "kernelspec": {
   "display_name": "Python 3 (ipykernel)",
   "language": "python",
   "name": "python3"
  },
  "language_info": {
   "codemirror_mode": {
    "name": "ipython",
    "version": 3
   },
   "file_extension": ".py",
   "mimetype": "text/x-python",
   "name": "python",
   "nbconvert_exporter": "python",
   "pygments_lexer": "ipython3",
   "version": "3.11.7"
  }
 },
 "nbformat": 4,
 "nbformat_minor": 5
}
