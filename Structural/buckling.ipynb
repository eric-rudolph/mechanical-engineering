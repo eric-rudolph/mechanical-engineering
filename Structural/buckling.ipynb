{
 "cells": [
  {
   "cell_type": "markdown",
   "metadata": {},
   "source": [
    "# Buckling\n",
    "Reference: AISC Steel Construction Manual, Chapter E - Design of Members for Compression"
   ]
  },
  {
   "cell_type": "markdown",
   "metadata": {},
   "source": [
    "The elastic critical buckling stress, $F_e$, is determined by:\n",
    "$$ F_e=\\frac{\\pi^2E}{\\left( \\frac{KL}{r} \\right)^2} $$"
   ]
  },
  {
   "cell_type": "code",
   "execution_count": 2,
   "metadata": {},
   "outputs": [],
   "source": [
    "from math import pi, sqrt\n",
    "\n",
    "\n",
    "def Fe(L: float, r: float, K: float = 1.0, E: float = 2.9e7):\n",
    "    \"\"\"Calculate elastic critical buckling stress.\n",
    "    L = length\n",
    "    r = radius of gyration\n",
    "    K = end condition\n",
    "    E = elastic modulus\"\"\"\n",
    "\n",
    "    return pi**2 * E / (K * L / r) ** 2"
   ]
  },
  {
   "cell_type": "markdown",
   "metadata": {},
   "source": [
    "The flexural buckling stress, $F_{cr}$ is determined as follows:"
   ]
  },
  {
   "cell_type": "markdown",
   "metadata": {},
   "source": [
    "When $\\frac{KL}{r} \\le 4.71\\sqrt{\\frac{E}{F_y}}$, $F_{cr}=\\left[ 0.658^{\\frac{F_y}{F_e}} \\right]F_y$<br>\n",
    "When $\\frac{KL}{r} \\gt 4.71\\sqrt{\\frac{E}{F_y}}$, $F_{cr}=0.877F_e $"
   ]
  },
  {
   "cell_type": "code",
   "execution_count": 3,
   "metadata": {},
   "outputs": [],
   "source": [
    "def Fcr(L: float, r: float, K: float = 1.0, Fy: float = 36000, E: float = 2.9e7):\n",
    "    KLr = K * L / r\n",
    "    mod_yield_param = 4.71 * sqrt(E / Fy)\n",
    "    if KLr <= mod_yield_param:\n",
    "        return (0.658 ** (Fy / Fe(L, r, K, E))) * Fy\n",
    "    else:\n",
    "        return 0.877 * Fe(L, r, K, E)"
   ]
  },
  {
   "cell_type": "markdown",
   "metadata": {},
   "source": [
    "Perform the calculations with these parameters:"
   ]
  },
  {
   "cell_type": "code",
   "execution_count": 5,
   "metadata": {},
   "outputs": [
    {
     "name": "stdout",
     "output_type": "stream",
     "text": [
      "The flexural buckling stress is 48,421 psi\n"
     ]
    }
   ],
   "source": [
    "L = 72 # unsupported length, inches\n",
    "r = 1 # radius of gyration, inches\n",
    "K = 1.0 # End condition\n",
    "E = 2.9e7 # Elastic modulus, psi\n",
    "\n",
    "print(f\"The flexural buckling stress is {Fcr(L,r,K,E):,.0f} psi\")\n"
   ]
  }
 ],
 "metadata": {
  "kernelspec": {
   "display_name": "Python 3",
   "language": "python",
   "name": "python3"
  },
  "language_info": {
   "codemirror_mode": {
    "name": "ipython",
    "version": 3
   },
   "file_extension": ".py",
   "mimetype": "text/x-python",
   "name": "python",
   "nbconvert_exporter": "python",
   "pygments_lexer": "ipython3",
   "version": "3.11.7"
  }
 },
 "nbformat": 4,
 "nbformat_minor": 2
}
